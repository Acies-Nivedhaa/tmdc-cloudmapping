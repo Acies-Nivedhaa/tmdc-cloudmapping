{
 "cells": [
  {
   "cell_type": "code",
   "execution_count": 1,
   "metadata": {},
   "outputs": [],
   "source": [
    "import pandas as pd\n",
    "import numpy as np\n",
    "import matplotlib.pyplot as plt\n",
    "from sklearn.linear_model import LinearRegression\n",
    "from datetime import datetime"
   ]
  },
  {
   "cell_type": "code",
   "execution_count": 2,
   "metadata": {},
   "outputs": [],
   "source": [
    "DATAOS_FQDN = \"dataos-training.dataos.app\"\n",
    "\n",
    "token = \"Y2xvdWRjb3N0LjU3ODViZDAzLWM3ZjMtNGQ5Zi1hMTJjLWQ1ZjA4NTgwYjJkYw==\""
   ]
  },
  {
   "cell_type": "code",
   "execution_count": null,
   "metadata": {},
   "outputs": [],
   "source": [
    "azure = pd.read_excel(\"DataPoint_AzureCost_JulyToSept2024_LastOne.xlsx\")\n",
    "snowflake = pd.read_excel(\"SF_CostResults_JulyToSept2024_LatestOne.xlsx\")\n",
    "gcp = pd.read_csv(\"simulated_gcp_billing_data.csv\")"
   ]
  },
  {
   "cell_type": "code",
   "execution_count": null,
   "metadata": {},
   "outputs": [],
   "source": [
    "# === Normalize schemas ===\n",
    "azure_df = azure.rename(columns={\n",
    "    'Region': 'region',\n",
    "    'Allocation': 'allocation',\n",
    "    'SubscriptionName': 'subscription',\n",
    "    'UsageDate': 'usage_date',\n",
    "    'Cost': 'cost'\n",
    "})[['region', 'allocation', 'subscription', 'usage_date', 'cost']]\n",
    "azure_df['platform'] = 'Azure'\n",
    "azure_df['usage_date'] = pd.to_datetime(azure_df['usage_date'], unit='D', origin='1899-12-30', errors='coerce')"
   ]
  },
  {
   "cell_type": "code",
   "execution_count": null,
   "metadata": {},
   "outputs": [],
   "source": [
    "snowflake_df = snowflake.rename(columns={\n",
    "    'REGION': 'region',\n",
    "    'ALLOCATION': 'allocation',\n",
    "    'ACCOUNT_NAME': 'subscription',\n",
    "    'START_TIME': 'usage_date',\n",
    "    'AMOUNT': 'cost'\n",
    "})[['region', 'allocation', 'subscription', 'usage_date', 'cost']]\n",
    "snowflake_df['platform'] = 'Snowflake'\n",
    "snowflake_df['usage_date'] = pd.to_datetime(snowflake_df['usage_date'], errors='coerce')\n"
   ]
  },
  {
   "cell_type": "code",
   "execution_count": null,
   "metadata": {},
   "outputs": [],
   "source": [
    "gcp_df = gcp.rename(columns={\n",
    "    'region': 'region',\n",
    "    'allocation': 'allocation',\n",
    "    'project_name': 'subscription',\n",
    "    'usage_start_time': 'usage_date',\n",
    "    'final_cost': 'cost'\n",
    "})[['region', 'allocation', 'subscription', 'usage_date', 'cost']]\n",
    "gcp_df['platform'] = 'GCP'\n",
    "gcp_df['usage_date'] = pd.to_datetime(gcp_df['usage_date'], errors='coerce')\n",
    "gcp_df = gcp_df.loc[:, ~gcp_df.columns.duplicated()]"
   ]
  },
  {
   "cell_type": "code",
   "execution_count": null,
   "metadata": {},
   "outputs": [],
   "source": [
    "\n",
    "# === Merge all ===\n",
    "df = pd.concat([azure_df, snowflake_df, gcp_df], ignore_index=True)"
   ]
  },
  {
   "cell_type": "code",
   "execution_count": null,
   "metadata": {},
   "outputs": [],
   "source": [
    "\n",
    "# === Preprocess ===\n",
    "df = df.dropna(subset=['usage_date', 'cost'])\n",
    "df['cost'] = pd.to_numeric(df['cost'], errors='coerce')\n",
    "df = df[df['cost'] > 0]\n",
    "df['month'] = df['usage_date'].dt.to_period('M').astype(str)"
   ]
  },
  {
   "cell_type": "code",
   "execution_count": null,
   "metadata": {},
   "outputs": [],
   "source": [
    "\n",
    "# === Summary Metrics ===\n",
    "summary = df.groupby('platform')['cost'].sum().reset_index().rename(columns={'cost': 'total_cost'})\n",
    "monthly_trend = df.groupby(['month', 'platform'])['cost'].sum().reset_index()"
   ]
  },
  {
   "cell_type": "code",
   "execution_count": null,
   "metadata": {},
   "outputs": [],
   "source": [
    "# === Forecasting ===\n",
    "def forecast_cost(grouped_df, forecast_months=1):\n",
    "    result = {}\n",
    "    for name, group in grouped_df:\n",
    "        group = group.groupby('month')['cost'].sum().reset_index()\n",
    "        group['month_index'] = np.arange(len(group))\n",
    "        model = LinearRegression()\n",
    "        model.fit(group[['month_index']], group['cost'])\n",
    "        next_index = len(group)\n",
    "        prediction = model.predict([[next_index]])[0]\n",
    "        result[name] = round(prediction, 2)\n",
    "    return result"
   ]
  },
  {
   "cell_type": "code",
   "execution_count": null,
   "metadata": {},
   "outputs": [],
   "source": [
    "# Example: Forecast by Platform\n",
    "platform_forecast = forecast_cost(df.groupby('platform'))"
   ]
  },
  {
   "cell_type": "code",
   "execution_count": null,
   "metadata": {},
   "outputs": [],
   "source": [
    "# === Plotting (Optional) ===\n",
    "def plot_trend(df, group_col='platform'):\n",
    "    pivot_df = df.pivot(index='month', columns=group_col, values='cost')\n",
    "    pivot_df.plot(title=f'Monthly Cost Trend by {group_col.capitalize()}', figsize=(10, 5))\n",
    "    plt.xlabel('Month')\n",
    "    plt.ylabel('Cost')\n",
    "    plt.grid(True)\n",
    "    plt.tight_layout()\n",
    "    plt.show()"
   ]
  },
  {
   "cell_type": "code",
   "execution_count": null,
   "metadata": {},
   "outputs": [],
   "source": [
    "# plot_trend(monthly_trend, group_col='platform')  # Optional plot"
   ]
  },
  {
   "cell_type": "code",
   "execution_count": null,
   "metadata": {},
   "outputs": [],
   "source": [
    "# === Print Outputs ===\n",
    "print(\"=== Summary Cost by Platform ===\")\n",
    "print(summary)\n",
    "print(\"\\n=== Forecasted Cost by Platform ===\")\n",
    "print(platform_forecast)"
   ]
  },
  {
   "cell_type": "code",
   "execution_count": null,
   "metadata": {},
   "outputs": [],
   "source": [
    "# === Convert forecast dictionary to DataFrame ===\n",
    "forecast_df = pd.DataFrame.from_dict(platform_forecast, orient='index', columns=['forecasted_cost']).reset_index()\n",
    "forecast_df = forecast_df.rename(columns={'index': 'platform'})\n",
    "\n",
    "# === Save to CSV or view ===\n",
    "forecast_df.to_csv(\"forecasted_cost_by_platform.csv\", index=False)\n",
    "print(\"\\n=== Forecasted Cost DataFrame ===\")\n",
    "print(forecast_df)\n"
   ]
  },
  {
   "cell_type": "code",
   "execution_count": null,
   "metadata": {},
   "outputs": [],
   "source": [
    "save(name=\"dataos://lakehouse:siva/device_events_process\", dataframe=final_df, format=\"iceberg\", mode=\"overwrite\")"
   ]
  },
  {
   "cell_type": "code",
   "execution_count": null,
   "metadata": {},
   "outputs": [],
   "source": [
    "final_df.write \\\n",
    "    .format(\"iceberg\") \\\n",
    "    .mode(\"overwrite\") \\\n",
    "    .save(\"lakehouse.siva.device_events_process\")"
   ]
  }
 ],
 "metadata": {
  "kernelspec": {
   "display_name": "Python 3",
   "language": "python",
   "name": "python3"
  },
  "language_info": {
   "codemirror_mode": {
    "name": "ipython",
    "version": 3
   },
   "file_extension": ".py",
   "mimetype": "text/x-python",
   "name": "python",
   "nbconvert_exporter": "python",
   "pygments_lexer": "ipython3",
   "version": "3.13.5"
  }
 },
 "nbformat": 4,
 "nbformat_minor": 2
}
